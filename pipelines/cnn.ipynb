#%%

from pathlib import Path
from fastai.callbacks import SaveModelCallback
from fastai.vision import ImageList, cnn_learner, models, error_rate, accuracy, ShowGraph
from torch.nn.functional import cross_entropy
import config

import pandas as pd
from services import file_service

logger = config.create_logger(__name__)

image_path = Path(config.OUTPUT_PATH_C, 'image_splitting')
data = ImageList.from_folder(image_path)\
    .split_by_folder()\
    .databunch()

#%%

model = models.resnet18

learn = cnn_learner(data, model, metrics=[cross_entropy, accuracy])
learn.model.cuda() 

learn.save('before-learner')
learn.lr_find()
learn.recorder.plot()
learn.load('before-learner')
# 3e-06,4e-06


#%%

from fastai.callbacks import EarlyStoppingCallback
from fastai.vision import partial

file_path = file_service.get_unique_persist_filename(config.OUTPUT_MODEL_PAR_PATH, base_output_stem=f'cnn_resnet34_', extension='pkl', use_date=True)

learn.fit_one_cycle(50, slice(1e-03,3e-03), callbacks=[ShowGraph(learn), SaveModelCallback(learn, every='epoch',  
                  monitor='cross_entropy', name=file_path)])

#%%

pickle_par_path = Path(config.OUTPUT_MODEL_PAR_PATH, 'data')
pickle_par_path.mkdir(exist_ok=True)

df.to_pickle(Path(pickle_par_path, 'df'))
df_train.to_pickle(Path(pickle_par_path, 'df_train'))
df_val.to_pickle(Path(pickle_par_path, 'df_val'))
df_test.to_pickle(Path(pickle_par_path, 'df_test'))


#%%

data.path = pickle_par_path

data.save()

learn_par_path = Path(config.OUTPUT_MODEL_PAR_PATH, 'learners')
learn_par_path.mkdir(exist_ok=True)
learn_path = Path(learn_par_path, 'cnn_learner.pkl')

learn.export(learn_path)

#%%

learn.unfreeze()
learn.fit_one_cycle(50, slice(1e-03,3e-03), callbacks=[ShowGraph(learn), SaveModelCallback(learn, every='epoch',  
                  monitor='cross_entropy', name=file_path)])

#%%



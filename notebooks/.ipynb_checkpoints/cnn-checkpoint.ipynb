{
 "cells": [
  {
   "cell_type": "code",
   "execution_count": null,
   "metadata": {
    "pycharm": {
     "is_executing": false
    }
   },
   "outputs": [
    {
     "name": "stdout",
     "output_type": "stream",
     "text": [
      "2020-03-29 18:46:21,406 - __main__ - INFO - DF:                                                 path     score  \\\n",
      "0  C:\\Kaggle Downloads\\deepfake-detection-challen...  0.983320   \n",
      "1  C:\\Kaggle Downloads\\deepfake-detection-challen...  1.000000   \n",
      "2  C:\\Kaggle Downloads\\deepfake-detection-challen...  0.983873   \n",
      "3  C:\\Kaggle Downloads\\deepfake-detection-challen...  1.000000   \n",
      "4  C:\\Kaggle Downloads\\deepfake-detection-challen...  0.972640   \n",
      "\n",
      "                                       original_path  \\\n",
      "0  D:\\Kaggle Downloads\\deepfake-detection-challen...   \n",
      "1  E:\\Kaggle Downloads\\deepfake-detection-challen...   \n",
      "2  D:\\Kaggle Downloads\\deepfake-detection-challen...   \n",
      "3  E:\\Kaggle Downloads\\deepfake-detection-challen...   \n",
      "4  D:\\Kaggle Downloads\\deepfake-detection-challen...   \n",
      "\n",
      "                     filename video_name_stem gross_label  score_1places  \\\n",
      "0  lthjbibrbq_293_98332.0.png      lthjbibrbq        fake            1.0   \n",
      "1      gomwfvijiv_220_1.0.png      gomwfvijiv        real            1.0   \n",
      "2   txhmbhmfen_88_98387.0.png      txhmbhmfen        fake            1.0   \n",
      "3      tgmqpnqqwr_269_1.0.png      tgmqpnqqwr        real            1.0   \n",
      "4  guerwoutas_245_97264.0.png      guerwoutas        fake            1.0   \n",
      "\n",
      "   score_2places  score_3places  score_4places test_train_split  \\\n",
      "0           0.98          0.983         0.9833            train   \n",
      "1           1.00          1.000         1.0000            train   \n",
      "2           0.98          0.984         0.9839            train   \n",
      "3           1.00          1.000         1.0000            train   \n",
      "4           0.97          0.973         0.9726            train   \n",
      "\n",
      "   real_or_fake_digit  \n",
      "0                   1  \n",
      "1                   0  \n",
      "2                   1  \n",
      "3                   0  \n",
      "4                   1  \n",
      "2020-03-29 18:46:22,083 - __main__ - INFO - df_val Index: <class 'pandas.core.indexes.numeric.Int64Index'>\n",
      "2020-03-29 18:46:22,088 - __main__ - INFO - Path: C:\\Kaggle Downloads\\deepfake-detection-challenge\\output\\merged\\images\n"
     ]
    },
    {
     "data": {
      "text/html": [
       "\n",
       "    <div>\n",
       "        <style>\n",
       "            /* Turns off some styling */\n",
       "            progress {\n",
       "                /* gets rid of default border in Firefox and Opera. */\n",
       "                border: none;\n",
       "                /* Needs to be in here for Safari polyfill so background images work as expected. */\n",
       "                background-size: auto;\n",
       "            }\n",
       "            .progress-bar-interrupted, .progress-bar-interrupted::-webkit-progress-bar {\n",
       "                background: #F44336;\n",
       "            }\n",
       "        </style>\n",
       "      <progress value='0' class='' max='1', style='width:300px; height:20px; vertical-align: middle;'></progress>\n",
       "      0.00% [0/1 00:00<00:00]\n",
       "    </div>\n",
       "    \n",
       "<table border=\"1\" class=\"dataframe\">\n",
       "  <thead>\n",
       "    <tr style=\"text-align: left;\">\n",
       "      <th>epoch</th>\n",
       "      <th>train_loss</th>\n",
       "      <th>valid_loss</th>\n",
       "      <th>cross_entropy</th>\n",
       "      <th>accuracy</th>\n",
       "      <th>time</th>\n",
       "    </tr>\n",
       "  </thead>\n",
       "  <tbody>\n",
       "  </tbody>\n",
       "</table><p>\n",
       "\n",
       "    <div>\n",
       "        <style>\n",
       "            /* Turns off some styling */\n",
       "            progress {\n",
       "                /* gets rid of default border in Firefox and Opera. */\n",
       "                border: none;\n",
       "                /* Needs to be in here for Safari polyfill so background images work as expected. */\n",
       "                background-size: auto;\n",
       "            }\n",
       "            .progress-bar-interrupted, .progress-bar-interrupted::-webkit-progress-bar {\n",
       "                background: #F44336;\n",
       "            }\n",
       "        </style>\n",
       "      <progress value='0' class='' max='7245', style='width:300px; height:20px; vertical-align: middle;'></progress>\n",
       "      0.00% [0/7245 00:00<00:00]\n",
       "    </div>\n",
       "    "
      ],
      "text/plain": [
       "<IPython.core.display.HTML object>"
      ]
     },
     "metadata": {},
     "output_type": "display_data"
    }
   ],
   "source": [
    "from pathlib import Path\n",
    "from fastai.callbacks import SaveModelCallback\n",
    "from fastai.vision import ImageList, cnn_learner, models, error_rate, accuracy, ShowGraph\n",
    "from torch.nn.functional import cross_entropy\n",
    "import config\n",
    "\n",
    "import pandas as pd\n",
    "from services import file_service\n",
    "\n",
    "logger = config.create_logger(__name__)\n",
    "\n",
    "image_path = Path('C:\\\\Kaggle Downloads\\\\deepfake-detection-challenge\\\\output\\\\merged\\\\images')\n",
    "path = Path('C:\\\\Kaggle Downloads\\\\deepfake-detection-challenge\\\\output\\\\decorate_df\\\\dataframes\\\\df.pkl')\n",
    "df = pd.read_pickle(path)\n",
    "\n",
    "df = df.sample(frac=1).reset_index(drop=True)\n",
    "\n",
    "df['real_or_fake_digit'] = df['gross_label'].apply(lambda x: 1 if x == 'fake' else 0)\n",
    "\n",
    "num_rows = df.shape[0]\n",
    "\n",
    "df_uncut = df\n",
    "\n",
    "df = df.iloc[:num_rows//4, :]\n",
    "\n",
    "logger.info(f'DF: {df.head()}')\n",
    "\n",
    "df_val = df[df['test_train_split'] == 'validation']\n",
    "df_train = df[df['test_train_split'] == 'train']\n",
    "\n",
    "\n",
    "def balance_df(df):\n",
    "    df_f = df[df['gross_label'] == 'fake']\n",
    "    df_r = df[df['gross_label'] == 'real']\n",
    "\n",
    "    num_real = df_r.shape[0]\n",
    "\n",
    "    df_f = df_f.iloc[:num_real, :]\n",
    "    return pd.concat([df_f, df_r])\n",
    "\n",
    "df_train = balance_df(df_train)\n",
    "df_val = balance_df(df_val)\n",
    "\n",
    "df_test = df[df['test_train_split'] == 'test']\n",
    "\n",
    "logger.info(f'df_val Index: {type(df_val.index)}')\n",
    "\n",
    "val_path = Path(df_val.iloc[0, df_val.columns.get_loc('path')])\n",
    "logger.info(f'Path: {val_path.parent}')\n",
    "\n",
    "data = (ImageList.from_df(df, image_path, cols='filename')\n",
    "  .split_by_idxs(train_idx=df_train.index, valid_idx=df_val.index)\n",
    "  .label_from_df(cols='real_or_fake_digit')\n",
    "  .databunch(bs=32))\n",
    "\n",
    "model = models.resnet18\n",
    "\n",
    "learn = cnn_learner(data, model, metrics=[cross_entropy, accuracy])\n",
    "learn.model.cuda() \n",
    "\n",
    "learn.save('before-learner')\n",
    "learn.lr_find()\n",
    "learn.recorder.plot()\n",
    "learn.load('before-learner')\n",
    "# 3e-06,4e-06\n"
   ]
  },
  {
   "cell_type": "code",
   "execution_count": 6,
   "metadata": {},
   "outputs": [
    {
     "data": {
      "text/html": [
       "\n",
       "    <div>\n",
       "        <style>\n",
       "            /* Turns off some styling */\n",
       "            progress {\n",
       "                /* gets rid of default border in Firefox and Opera. */\n",
       "                border: none;\n",
       "                /* Needs to be in here for Safari polyfill so background images work as expected. */\n",
       "                background-size: auto;\n",
       "            }\n",
       "            .progress-bar-interrupted, .progress-bar-interrupted::-webkit-progress-bar {\n",
       "                background: #F44336;\n",
       "            }\n",
       "        </style>\n",
       "      <progress value='4' class='' max='50', style='width:300px; height:20px; vertical-align: middle;'></progress>\n",
       "      8.00% [4/50 1:46:23<20:23:34]\n",
       "    </div>\n",
       "    \n",
       "<table border=\"1\" class=\"dataframe\">\n",
       "  <thead>\n",
       "    <tr style=\"text-align: left;\">\n",
       "      <th>epoch</th>\n",
       "      <th>train_loss</th>\n",
       "      <th>valid_loss</th>\n",
       "      <th>error_rate</th>\n",
       "      <th>accuracy</th>\n",
       "      <th>cross_entropy</th>\n",
       "      <th>time</th>\n",
       "    </tr>\n",
       "  </thead>\n",
       "  <tbody>\n",
       "    <tr>\n",
       "      <td>0</td>\n",
       "      <td>1.346321</td>\n",
       "      <td>0.948995</td>\n",
       "      <td>0.498552</td>\n",
       "      <td>0.501448</td>\n",
       "      <td>0.948996</td>\n",
       "      <td>22:38</td>\n",
       "    </tr>\n",
       "    <tr>\n",
       "      <td>1</td>\n",
       "      <td>1.315103</td>\n",
       "      <td>0.919348</td>\n",
       "      <td>0.497409</td>\n",
       "      <td>0.502591</td>\n",
       "      <td>0.919348</td>\n",
       "      <td>27:52</td>\n",
       "    </tr>\n",
       "    <tr>\n",
       "      <td>2</td>\n",
       "      <td>1.237463</td>\n",
       "      <td>0.882113</td>\n",
       "      <td>0.489203</td>\n",
       "      <td>0.510797</td>\n",
       "      <td>0.882114</td>\n",
       "      <td>27:58</td>\n",
       "    </tr>\n",
       "    <tr>\n",
       "      <td>3</td>\n",
       "      <td>1.218699</td>\n",
       "      <td>0.850129</td>\n",
       "      <td>0.480971</td>\n",
       "      <td>0.519028</td>\n",
       "      <td>0.850128</td>\n",
       "      <td>27:50</td>\n",
       "    </tr>\n",
       "  </tbody>\n",
       "</table><p>\n",
       "\n",
       "    <div>\n",
       "        <style>\n",
       "            /* Turns off some styling */\n",
       "            progress {\n",
       "                /* gets rid of default border in Firefox and Opera. */\n",
       "                border: none;\n",
       "                /* Needs to be in here for Safari polyfill so background images work as expected. */\n",
       "                background-size: auto;\n",
       "            }\n",
       "            .progress-bar-interrupted, .progress-bar-interrupted::-webkit-progress-bar {\n",
       "                background: #F44336;\n",
       "            }\n",
       "        </style>\n",
       "      <progress value='1231' class='' max='1231', style='width:300px; height:20px; vertical-align: middle;'></progress>\n",
       "      100.00% [1231/1231 02:30<00:00]\n",
       "    </div>\n",
       "    "
      ],
      "text/plain": [
       "<IPython.core.display.HTML object>"
      ]
     },
     "metadata": {},
     "output_type": "display_data"
    },
    {
     "data": {
      "image/png": "[encoded data removed]",
      "text/plain": [
       "<Figure size 432x288 with 1 Axes>"
      ]
     },
     "metadata": {},
     "output_type": "display_data"
    },
    {
     "name": "stdout",
     "output_type": "stream",
     "text": [
      "Epoch 4: early stopping\n"
     ]
    },
    {
     "data": {
      "image/png": "[encoded data removed]",
      "text/plain": [
       "<Figure size 432x288 with 1 Axes>"
      ]
     },
     "metadata": {
      "needs_background": "light"
     },
     "output_type": "display_data"
    }
   ],
   "source": [
    "from fastai.callbacks import EarlyStoppingCallback\n",
    "from fastai.vision import partial\n",
    "\n",
    "file_path = file_service.get_unique_persist_filename(config.OUTPUT_MODEL_PAR_PATH, base_output_stem=f'cnn_resnet34_', extension='pkl', use_date=True)\n",
    "\n",
    "learn.fit_one_cycle(50, slice(1e-05,5e-06), callbacks=[ShowGraph(learn), SaveModelCallback(learn, every='epoch',  \n",
    "                  monitor='cross_entropy', name=file_path)])"
   ]
  },
  {
   "cell_type": "code",
   "execution_count": 7,
   "metadata": {},
   "outputs": [],
   "source": [
    "pickle_par_path = Path(config.OUTPUT_MODEL_PAR_PATH, 'data')\n",
    "pickle_par_path.mkdir(exist_ok=True)\n",
    "\n",
    "df.to_pickle(Path(pickle_par_path, 'df'))\n",
    "df_train.to_pickle(Path(pickle_par_path, 'df_train'))\n",
    "df_val.to_pickle(Path(pickle_par_path, 'df_val'))\n",
    "df_test.to_pickle(Path(pickle_par_path, 'df_test'))\n"
   ]
  },
  {
   "cell_type": "code",
   "execution_count": 9,
   "metadata": {},
   "outputs": [],
   "source": [
    "data.path = pickle_par_path\n",
    "\n",
    "data.save()"
   ]
  },
  {
   "cell_type": "code",
   "execution_count": null,
   "metadata": {},
   "outputs": [
    {
     "data": {
      "text/html": [
       "\n",
       "    <div>\n",
       "        <style>\n",
       "            /* Turns off some styling */\n",
       "            progress {\n",
       "                /* gets rid of default border in Firefox and Opera. */\n",
       "                border: none;\n",
       "                /* Needs to be in here for Safari polyfill so background images work as expected. */\n",
       "                background-size: auto;\n",
       "            }\n",
       "            .progress-bar-interrupted, .progress-bar-interrupted::-webkit-progress-bar {\n",
       "                background: #F44336;\n",
       "            }\n",
       "        </style>\n",
       "      <progress value='0' class='' max='50', style='width:300px; height:20px; vertical-align: middle;'></progress>\n",
       "      0.00% [0/50 00:00<00:00]\n",
       "    </div>\n",
       "    \n",
       "<table border=\"1\" class=\"dataframe\">\n",
       "  <thead>\n",
       "    <tr style=\"text-align: left;\">\n",
       "      <th>epoch</th>\n",
       "      <th>train_loss</th>\n",
       "      <th>valid_loss</th>\n",
       "      <th>error_rate</th>\n",
       "      <th>accuracy</th>\n",
       "      <th>cross_entropy</th>\n",
       "      <th>time</th>\n",
       "    </tr>\n",
       "  </thead>\n",
       "  <tbody>\n",
       "  </tbody>\n",
       "</table><p>\n",
       "\n",
       "    <div>\n",
       "        <style>\n",
       "            /* Turns off some styling */\n",
       "            progress {\n",
       "                /* gets rid of default border in Firefox and Opera. */\n",
       "                border: none;\n",
       "                /* Needs to be in here for Safari polyfill so background images work as expected. */\n",
       "                background-size: auto;\n",
       "            }\n",
       "            .progress-bar-interrupted, .progress-bar-interrupted::-webkit-progress-bar {\n",
       "                background: #F44336;\n",
       "            }\n",
       "        </style>\n",
       "      <progress value='6326' class='' max='9240', style='width:300px; height:20px; vertical-align: middle;'></progress>\n",
       "      68.46% [6326/9240 25:38<11:48 0.6536]\n",
       "    </div>\n",
       "    "
      ],
      "text/plain": [
       "<IPython.core.display.HTML object>"
      ]
     },
     "metadata": {},
     "output_type": "display_data"
    }
   ],
   "source": [
    "learn.unfreeze()\n",
    "learn.fit_one_cycle(50, slice(3e-06,4e-06), callbacks=[ShowGraph(learn), SaveModelCallback(learn, every='epoch',  \n",
    "                  monitor='cross_entropy', name=file_path)])"
   ]
  },
  {
   "cell_type": "code",
   "execution_count": null,
   "metadata": {},
   "outputs": [],
   "source": []
  }
 ],
 "metadata": {
  "kernelspec": {
   "display_name": "Python 3",
   "language": "python",
   "name": "python3"
  },
  "language_info": {
   "codemirror_mode": {
    "name": "ipython",
    "version": 3
   },
   "file_extension": ".py",
   "mimetype": "text/x-python",
   "name": "python",
   "nbconvert_exporter": "python",
   "pygments_lexer": "ipython3",
   "version": "3.7.6"
  },
  "pycharm": {
   "stem_cell": {
    "cell_type": "raw",
    "metadata": {
     "collapsed": false
    },
    "source": []
   }
  }
 },
 "nbformat": 4,
 "nbformat_minor": 1
}

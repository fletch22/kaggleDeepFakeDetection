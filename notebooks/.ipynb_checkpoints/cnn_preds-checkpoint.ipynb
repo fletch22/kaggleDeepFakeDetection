{
 "cells": [
  {
   "cell_type": "code",
   "execution_count": 1,
   "metadata": {
    "pycharm": {
     "name": "#%%\n"
    }
   },
   "outputs": [],
   "source": [
    "from unittest import TestCase\n",
    "\n",
    "from fastai.metrics import error_rate\n",
    "from fastai.vision import ImageList, Path, LabelList, LabelLists, models, accuracy, cnn_learner, FloatList, create_cnn, \\\n",
    "    load_learner, DatasetType\n",
    "import config\n",
    "import pandas as pd\n",
    "from learners import cnn_learner as f22_cnn_learner\n",
    "from services import pickle_service\n",
    "\n",
    "logger = config.create_logger(__name__)"
   ]
  },
  {
   "cell_type": "code",
   "execution_count": 2,
   "metadata": {
    "pycharm": {
     "name": "#%%\n"
    }
   },
   "outputs": [
    {
     "name": "stdout",
     "output_type": "stream",
     "text": [
      "2020-03-29 15:37:11,776 - __main__ - INFO - data type: <class 'fastai.vision.data.ImageList'>\n",
      "2020-03-29 15:37:11,779 - __main__ - INFO - df_test: 100\n",
      "2020-03-29 15:37:11,779 - __main__ - INFO - len: 100\n"
     ]
    }
   ],
   "source": [
    "image_path = Path('C:\\\\Kaggle Downloads\\\\deepfake-detection-challenge\\\\output\\\\merged\\\\images')\n",
    "\n",
    "pickle_par_path = Path(config.OUTPUT_MODEL_PAR_PATH, 'data')\n",
    "\n",
    "df_test = pd.read_pickle(Path(pickle_par_path, 'df_test'))\n",
    "\n",
    "num_process = 100\n",
    "df_test = df_test.iloc[:num_process,:]\n",
    "\n",
    "data = (ImageList.from_df(df_test, image_path, cols='filename'))\n",
    "\n",
    "logger.info(f'data type: {type(data)}')\n",
    "\n",
    "logger.info(f'df_test: {df_test.shape[0]}')\n",
    "logger.info(f'len: {data.items.shape[0]}')\n",
    "\n",
    "learn_par_path = Path(config.OUTPUT_MODEL_PAR_PATH, 'learners')\n",
    "learn_par_path.mkdir(exist_ok=True)\n",
    "learn_path = Path(learn_par_path, 'cnn_learner.pkl')"
   ]
  },
  {
   "cell_type": "code",
   "execution_count": 3,
   "metadata": {
    "pycharm": {
     "name": "#%%\n"
    }
   },
   "outputs": [
    {
     "data": {
      "text/plain": [
       "Sequential(\n",
       "  (0): Sequential(\n",
       "    (0): Conv2d(3, 64, kernel_size=(7, 7), stride=(2, 2), padding=(3, 3), bias=False)\n",
       "    (1): BatchNorm2d(64, eps=1e-05, momentum=0.1, affine=True, track_running_stats=True)\n",
       "    (2): ReLU(inplace=True)\n",
       "    (3): MaxPool2d(kernel_size=3, stride=2, padding=1, dilation=1, ceil_mode=False)\n",
       "    (4): Sequential(\n",
       "      (0): BasicBlock(\n",
       "        (conv1): Conv2d(64, 64, kernel_size=(3, 3), stride=(1, 1), padding=(1, 1), bias=False)\n",
       "        (bn1): BatchNorm2d(64, eps=1e-05, momentum=0.1, affine=True, track_running_stats=True)\n",
       "        (relu): ReLU(inplace=True)\n",
       "        (conv2): Conv2d(64, 64, kernel_size=(3, 3), stride=(1, 1), padding=(1, 1), bias=False)\n",
       "        (bn2): BatchNorm2d(64, eps=1e-05, momentum=0.1, affine=True, track_running_stats=True)\n",
       "      )\n",
       "      (1): BasicBlock(\n",
       "        (conv1): Conv2d(64, 64, kernel_size=(3, 3), stride=(1, 1), padding=(1, 1), bias=False)\n",
       "        (bn1): BatchNorm2d(64, eps=1e-05, momentum=0.1, affine=True, track_running_stats=True)\n",
       "        (relu): ReLU(inplace=True)\n",
       "        (conv2): Conv2d(64, 64, kernel_size=(3, 3), stride=(1, 1), padding=(1, 1), bias=False)\n",
       "        (bn2): BatchNorm2d(64, eps=1e-05, momentum=0.1, affine=True, track_running_stats=True)\n",
       "      )\n",
       "    )\n",
       "    (5): Sequential(\n",
       "      (0): BasicBlock(\n",
       "        (conv1): Conv2d(64, 128, kernel_size=(3, 3), stride=(2, 2), padding=(1, 1), bias=False)\n",
       "        (bn1): BatchNorm2d(128, eps=1e-05, momentum=0.1, affine=True, track_running_stats=True)\n",
       "        (relu): ReLU(inplace=True)\n",
       "        (conv2): Conv2d(128, 128, kernel_size=(3, 3), stride=(1, 1), padding=(1, 1), bias=False)\n",
       "        (bn2): BatchNorm2d(128, eps=1e-05, momentum=0.1, affine=True, track_running_stats=True)\n",
       "        (downsample): Sequential(\n",
       "          (0): Conv2d(64, 128, kernel_size=(1, 1), stride=(2, 2), bias=False)\n",
       "          (1): BatchNorm2d(128, eps=1e-05, momentum=0.1, affine=True, track_running_stats=True)\n",
       "        )\n",
       "      )\n",
       "      (1): BasicBlock(\n",
       "        (conv1): Conv2d(128, 128, kernel_size=(3, 3), stride=(1, 1), padding=(1, 1), bias=False)\n",
       "        (bn1): BatchNorm2d(128, eps=1e-05, momentum=0.1, affine=True, track_running_stats=True)\n",
       "        (relu): ReLU(inplace=True)\n",
       "        (conv2): Conv2d(128, 128, kernel_size=(3, 3), stride=(1, 1), padding=(1, 1), bias=False)\n",
       "        (bn2): BatchNorm2d(128, eps=1e-05, momentum=0.1, affine=True, track_running_stats=True)\n",
       "      )\n",
       "    )\n",
       "    (6): Sequential(\n",
       "      (0): BasicBlock(\n",
       "        (conv1): Conv2d(128, 256, kernel_size=(3, 3), stride=(2, 2), padding=(1, 1), bias=False)\n",
       "        (bn1): BatchNorm2d(256, eps=1e-05, momentum=0.1, affine=True, track_running_stats=True)\n",
       "        (relu): ReLU(inplace=True)\n",
       "        (conv2): Conv2d(256, 256, kernel_size=(3, 3), stride=(1, 1), padding=(1, 1), bias=False)\n",
       "        (bn2): BatchNorm2d(256, eps=1e-05, momentum=0.1, affine=True, track_running_stats=True)\n",
       "        (downsample): Sequential(\n",
       "          (0): Conv2d(128, 256, kernel_size=(1, 1), stride=(2, 2), bias=False)\n",
       "          (1): BatchNorm2d(256, eps=1e-05, momentum=0.1, affine=True, track_running_stats=True)\n",
       "        )\n",
       "      )\n",
       "      (1): BasicBlock(\n",
       "        (conv1): Conv2d(256, 256, kernel_size=(3, 3), stride=(1, 1), padding=(1, 1), bias=False)\n",
       "        (bn1): BatchNorm2d(256, eps=1e-05, momentum=0.1, affine=True, track_running_stats=True)\n",
       "        (relu): ReLU(inplace=True)\n",
       "        (conv2): Conv2d(256, 256, kernel_size=(3, 3), stride=(1, 1), padding=(1, 1), bias=False)\n",
       "        (bn2): BatchNorm2d(256, eps=1e-05, momentum=0.1, affine=True, track_running_stats=True)\n",
       "      )\n",
       "    )\n",
       "    (7): Sequential(\n",
       "      (0): BasicBlock(\n",
       "        (conv1): Conv2d(256, 512, kernel_size=(3, 3), stride=(2, 2), padding=(1, 1), bias=False)\n",
       "        (bn1): BatchNorm2d(512, eps=1e-05, momentum=0.1, affine=True, track_running_stats=True)\n",
       "        (relu): ReLU(inplace=True)\n",
       "        (conv2): Conv2d(512, 512, kernel_size=(3, 3), stride=(1, 1), padding=(1, 1), bias=False)\n",
       "        (bn2): BatchNorm2d(512, eps=1e-05, momentum=0.1, affine=True, track_running_stats=True)\n",
       "        (downsample): Sequential(\n",
       "          (0): Conv2d(256, 512, kernel_size=(1, 1), stride=(2, 2), bias=False)\n",
       "          (1): BatchNorm2d(512, eps=1e-05, momentum=0.1, affine=True, track_running_stats=True)\n",
       "        )\n",
       "      )\n",
       "      (1): BasicBlock(\n",
       "        (conv1): Conv2d(512, 512, kernel_size=(3, 3), stride=(1, 1), padding=(1, 1), bias=False)\n",
       "        (bn1): BatchNorm2d(512, eps=1e-05, momentum=0.1, affine=True, track_running_stats=True)\n",
       "        (relu): ReLU(inplace=True)\n",
       "        (conv2): Conv2d(512, 512, kernel_size=(3, 3), stride=(1, 1), padding=(1, 1), bias=False)\n",
       "        (bn2): BatchNorm2d(512, eps=1e-05, momentum=0.1, affine=True, track_running_stats=True)\n",
       "      )\n",
       "    )\n",
       "  )\n",
       "  (1): Sequential(\n",
       "    (0): AdaptiveConcatPool2d(\n",
       "      (ap): AdaptiveAvgPool2d(output_size=1)\n",
       "      (mp): AdaptiveMaxPool2d(output_size=1)\n",
       "    )\n",
       "    (1): Flatten()\n",
       "    (2): BatchNorm1d(1024, eps=1e-05, momentum=0.1, affine=True, track_running_stats=True)\n",
       "    (3): Dropout(p=0.25, inplace=False)\n",
       "    (4): Linear(in_features=1024, out_features=512, bias=True)\n",
       "    (5): ReLU(inplace=True)\n",
       "    (6): BatchNorm1d(512, eps=1e-05, momentum=0.1, affine=True, track_running_stats=True)\n",
       "    (7): Dropout(p=0.5, inplace=False)\n",
       "    (8): Linear(in_features=512, out_features=2, bias=True)\n",
       "  )\n",
       ")"
      ]
     },
     "execution_count": 3,
     "metadata": {},
     "output_type": "execute_result"
    }
   ],
   "source": [
    "learn = load_learner(learn_par_path, file=learn_path, test=data)\n",
    "learn.model.cuda()"
   ]
  },
  {
   "cell_type": "code",
   "execution_count": 4,
   "metadata": {},
   "outputs": [
    {
     "data": {
      "text/html": [],
      "text/plain": [
       "<IPython.core.display.HTML object>"
      ]
     },
     "metadata": {},
     "output_type": "display_data"
    }
   ],
   "source": [
    "preds, y = learn.get_preds(ds_type=DatasetType.Test)\n",
    "\n",
    "pred_values = preds.data.cpu().numpy()\n",
    "y_values = y.data.cpu().numpy()"
   ]
  },
  {
   "cell_type": "code",
   "execution_count": 7,
   "metadata": {},
   "outputs": [
    {
     "name": "stdout",
     "output_type": "stream",
     "text": [
      "2020-03-29 15:45:26,843 - __main__ - INFO - 100\n",
      "2020-03-29 15:45:26,844 - __main__ - INFO - 100\n",
      "2020-03-29 15:45:26,845 - __main__ - INFO - 100\n"
     ]
    }
   ],
   "source": [
    "logger.info(f'{pred_values.shape[0]}')\n",
    "logger.info(f'{df_test.shape[0]}')\n",
    "logger.info(f'{y_values.shape[0]}')\n",
    "\n",
    "df_test['preds'] = pred_values.tolist()\n",
    "df_test['y'] = y_values.tolist()"
   ]
  },
  {
   "cell_type": "code",
   "execution_count": 12,
   "metadata": {},
   "outputs": [
    {
     "name": "stdout",
     "output_type": "stream",
     "text": [
      "2020-03-29 15:48:02,351 - __main__ - INFO - Head:                                                  path     score  \\\n",
      "2   C:\\Kaggle Downloads\\deepfake-detection-challen...  1.000000   \n",
      "13  C:\\Kaggle Downloads\\deepfake-detection-challen...  0.965596   \n",
      "35  C:\\Kaggle Downloads\\deepfake-detection-challen...  1.000000   \n",
      "39  C:\\Kaggle Downloads\\deepfake-detection-challen...  0.956618   \n",
      "82  C:\\Kaggle Downloads\\deepfake-detection-challen...  1.000000   \n",
      "\n",
      "                                        original_path  \\\n",
      "2   E:\\Kaggle Downloads\\deepfake-detection-challen...   \n",
      "13  D:\\Kaggle Downloads\\deepfake-detection-challen...   \n",
      "35  E:\\Kaggle Downloads\\deepfake-detection-challen...   \n",
      "39  D:\\Kaggle Downloads\\deepfake-detection-challen...   \n",
      "82  E:\\Kaggle Downloads\\deepfake-detection-challen...   \n",
      "\n",
      "                      filename video_name_stem gross_label  score_1places  \\\n",
      "2       lulmevqtla_213_1.0.png      lulmevqtla        real            1.0   \n",
      "13   rnhqcoqucw_66_96560.0.png      rnhqcoqucw        fake            1.0   \n",
      "35      hgldvicfxk_130_1.0.png      hgldvicfxk        real            1.0   \n",
      "39  umttlfnuvm_114_95662.0.png      umttlfnuvm        fake            1.0   \n",
      "82       awommqxhgm_36_1.0.png      awommqxhgm        real            1.0   \n",
      "\n",
      "    score_2places  score_3places  score_4places test_train_split  \\\n",
      "2            1.00          1.000         1.0000             test   \n",
      "13           0.97          0.966         0.9656             test   \n",
      "35           1.00          1.000         1.0000             test   \n",
      "39           0.96          0.957         0.9566             test   \n",
      "82           1.00          1.000         1.0000             test   \n",
      "\n",
      "    real_or_fake_digit                                      preds  y  \n",
      "2                    0   [0.4073876142501831, 0.5926124453544617]  0  \n",
      "13                   1  [0.48405539989471436, 0.5159445405006409]  0  \n",
      "35                   0  [0.43542540073394775, 0.5645745992660522]  0  \n",
      "39                   1   [0.4661973714828491, 0.5338025689125061]  0  \n",
      "82                   0  [0.44824227690696716, 0.5517577528953552]  0  \n",
      "2020-03-29 15:48:02,354 - __main__ - INFO - Num pred real: 100; fake: 0\n"
     ]
    }
   ],
   "source": [
    "\n",
    "\n",
    "# logger.info(f'Head: {df_test.head()}')\n",
    "\n",
    "count_real = df_test[df_test['y']==0].shape[0]\n",
    "count_fake = df_test[df_test['y']==1].shape[0]\n",
    "\n",
    "logger.info(f'Num pred real: {count_real}; fake: {count_fake}')\n"
   ]
  },
  {
   "cell_type": "code",
   "execution_count": null,
   "metadata": {},
   "outputs": [],
   "source": []
  }
 ],
 "metadata": {
  "kernelspec": {
   "display_name": "Python 3",
   "language": "python",
   "name": "python3"
  },
  "language_info": {
   "codemirror_mode": {
    "name": "ipython",
    "version": 3
   },
   "file_extension": ".py",
   "mimetype": "text/x-python",
   "name": "python",
   "nbconvert_exporter": "python",
   "pygments_lexer": "ipython3",
   "version": "3.7.6"
  },
  "pycharm": {
   "stem_cell": {
    "cell_type": "raw",
    "metadata": {
     "collapsed": false
    },
    "source": []
   }
  }
 },
 "nbformat": 4,
 "nbformat_minor": 1
}
